{
 "cells": [
  {
   "cell_type": "markdown",
   "id": "ef35c95f",
   "metadata": {},
   "source": [
    "# EMT Homework - 1\n",
    "\n",
    "**Course:** ME3103 - Expiremental Measures and Techniques  \n",
    "**Instructor:** Ms. Asmaa Labaaj  \n",
    "**Due Date:** [09/11/2024]  \n",
    "**By** Andrew Trepagnier - alt658\n",
    "\n",
    "## Table of Contents\n",
    "\n",
    "1. **Problem 1**\n",
    "  \n",
    "\n",
    "2. **Problem 2**\n",
    "  \n",
    "3. **Problem 3**\n",
    "   \n",
    "4. **Problem 4**\n",
    "   \n",
    "5. **Problem 5**\n",
    "\n"
   ]
  },
  {
   "cell_type": "markdown",
   "id": "bff0a99e",
   "metadata": {},
   "source": [
    "## Problem 1"
   ]
  },
  {
   "cell_type": "markdown",
   "id": "a16287fd",
   "metadata": {},
   "source": [
    "**Ten measurements are made of a certain resistance giving the following values in kΩ: 1.21, 1.24,\n",
    "1.25, 1.21, 1.23, 1.22, 1.22, 1.21, 1.23, 1.24.**"
   ]
  },
  {
   "cell_type": "code",
   "execution_count": 2,
   "id": "8a857851",
   "metadata": {},
   "outputs": [],
   "source": [
    "# Calculate the mean, variance, and standard deviation\n",
    "import sympy as sp\n",
    "import numpy as np"
   ]
  },
  {
   "cell_type": "code",
   "execution_count": 4,
   "id": "934adf88",
   "metadata": {},
   "outputs": [
    {
     "name": "stdout",
     "output_type": "stream",
     "text": [
      "10\n"
     ]
    }
   ],
   "source": [
    "x = [1.21, 1.24, 1.25, 1.21, 1.23, 1.22, 1.22, 1.21, 1.23, 1.24]\n",
    "length = len(x)\n",
    "\n",
    "print(length)"
   ]
  },
  {
   "cell_type": "code",
   "execution_count": 8,
   "id": "5b7630cf",
   "metadata": {},
   "outputs": [
    {
     "name": "stdout",
     "output_type": "stream",
     "text": [
      "The mean is [kohm]: 1.226\n"
     ]
    }
   ],
   "source": [
    "summation = sum(x)\n",
    "\n",
    "mean = summation/length\n",
    "print(\"The mean is [kohm]:\", mean)"
   ]
  },
  {
   "cell_type": "code",
   "execution_count": 20,
   "id": "fe93c819",
   "metadata": {},
   "outputs": [
    {
     "name": "stdout",
     "output_type": "stream",
     "text": [
      "-2.1777777777777816e-05\n",
      "-2.1777777777777816e-05\n",
      "-2.1777777777777816e-05\n",
      "-2.1777777777777816e-05\n",
      "-2.1777777777777816e-05\n",
      "-2.1777777777777816e-05\n",
      "-2.1777777777777816e-05\n",
      "-2.1777777777777816e-05\n",
      "-2.1777777777777816e-05\n",
      "-2.1777777777777816e-05\n",
      "The variance is [kohms]:  0.00020444444444444484\n"
     ]
    }
   ],
   "source": [
    "vari_array=np.empty(10)\n",
    "\n",
    "for i in range(0, 10):\n",
    "    vari_array[i] = (1/(length - 1))* (x[i] - mean)**2\n",
    "    print(vari)\n",
    "variance = sum(vari_array)\n",
    "print(\"The variance is [kohms]: \", variance)"
   ]
  },
  {
   "cell_type": "code",
   "execution_count": 21,
   "id": "921af5d9",
   "metadata": {},
   "outputs": [
    {
     "name": "stdout",
     "output_type": "stream",
     "text": [
      "The Standard deviation is [kohms]:  0.014298407059684826\n"
     ]
    }
   ],
   "source": [
    "stand_dev = sp.sqrt(variance)\n",
    "print(\"The Standard deviation is [kohms]: \", float(stand_dev))"
   ]
  },
  {
   "cell_type": "markdown",
   "id": "4e1662a7",
   "metadata": {},
   "source": [
    "## Problem 2 "
   ]
  },
  {
   "cell_type": "markdown",
   "id": "be9d9627",
   "metadata": {},
   "source": []
  }
 ],
 "metadata": {
  "kernelspec": {
   "display_name": "Python 3 (ipykernel)",
   "language": "python",
   "name": "python3"
  },
  "language_info": {
   "codemirror_mode": {
    "name": "ipython",
    "version": 3
   },
   "file_extension": ".py",
   "mimetype": "text/x-python",
   "name": "python",
   "nbconvert_exporter": "python",
   "pygments_lexer": "ipython3",
   "version": "3.11.5"
  }
 },
 "nbformat": 4,
 "nbformat_minor": 5
}

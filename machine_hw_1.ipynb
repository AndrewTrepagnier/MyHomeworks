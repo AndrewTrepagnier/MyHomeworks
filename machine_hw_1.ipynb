{
 "cells": [
  {
   "cell_type": "markdown",
   "id": "dcc8772b",
   "metadata": {},
   "source": [
    "# Machine Design Homework - 1\n",
    "\n",
    "**Course:** ME4403 - Machine Design  \n",
    "**Instructor:** Dr. [Bill Jones]  \n",
    "**Due Date:** [09/10/2024]  \n",
    "**By** Andrew Trepagnier - alt658\n",
    "\n",
    "## Table of Contents\n",
    "\n",
    "1. **Problem 3.41**\n",
    "  \n",
    "\n",
    "2. **Problem 3.62**\n",
    "  \n",
    "3. **Problem 3.64**\n",
    "   \n",
    "4. **Problem 3.81**\n",
    "   \n",
    "5. **Problem 3.127**\n",
    "\n",
    "6. **Problem 3.134**\n",
    "\n",
    "7. **Problem 3.153**\n",
    "\n",
    "8. **Problem 4.87**\n",
    "\n",
    "9. **Problem 4.132**\n",
    "\n",
    "   "
   ]
  },
  {
   "cell_type": "markdown",
   "id": "23246836",
   "metadata": {},
   "source": [
    " # Problem 3.41"
   ]
  },
  {
   "cell_type": "markdown",
   "id": "562fbb5c",
   "metadata": {},
   "source": []
  },
  {
   "cell_type": "markdown",
   "id": "aeb59f15",
   "metadata": {},
   "source": [
    "# Problem 3.62\n",
    "**Consider a 1-in-square steel thin-walled tube loaded in torsion. The tube has a wall\n",
    "thickness t = 1\n",
    "16 in, is 36 in long, and has a maximum allowable shear stress of 12 kpsi.\n",
    "Determine the maximum torque that can be applied and the corresponding angle of\n",
    "twist of the tube**\n"
   ]
  },
  {
   "cell_type": "markdown",
   "id": "630f4563",
   "metadata": {},
   "source": [
    "### Part A"
   ]
  },
  {
   "cell_type": "code",
   "execution_count": 10,
   "id": "fdc162d8",
   "metadata": {},
   "outputs": [
    {
     "name": "stdout",
     "output_type": "stream",
     "text": [
      "1318.35937500000 lb-in\n",
      "0.127569453095802 degrees\n"
     ]
    }
   ],
   "source": [
    "import sympy as sp\n",
    "import matplotlib as plt\n",
    "\n",
    "# My Solution\n",
    "\n",
    "l = 36 #in\n",
    "ri = 0\n",
    "t = sp.Rational(1,16)\n",
    "Lm = (1- t)*4\n",
    "Tau_max = 12000 #psi\n",
    "Am = (1-t)**2 # Typical for square thin walled tubes, rectangles would look like Ex: (1-t)(3-t)\n",
    "G = 11.5e6 # Based on Table A-5\n",
    "\n",
    "Torq = Tau_max*2*Am*t\n",
    "\n",
    "print(Torq.n(), \"lb-in\")\n",
    "\n",
    "\n",
    "\n",
    "phi = (Torq*Lm) / (4*G*(Am**2)*t) # in radians, multiply by 180/pi to convert to degrees\n",
    "\n",
    "phi_deg = (180/(3.141))*phi\n",
    "\n",
    "print(phi_deg, \"degrees\")\n"
   ]
  },
  {
   "cell_type": "markdown",
   "id": "f51fefa7",
   "metadata": {},
   "source": [
    "### Part B"
   ]
  },
  {
   "cell_type": "code",
   "execution_count": 15,
   "id": "6dd58750",
   "metadata": {},
   "outputs": [
    {
     "name": "stdout",
     "output_type": "stream",
     "text": [
      "Torque for thin walled tube with fillets is:  750.394042968750 lb-in\n",
      "The angle of torque is  0.224125425872386 degrees\n"
     ]
    }
   ],
   "source": [
    "\n",
    "# All variables the same except we have fillets with radius of 1/8\"\n",
    "\n",
    "dm_fillets = (0.125 + (0.125 + 0.125)) / (2) # di+do/2 gives dm of a circle, which each fillet combines to make\n",
    "\n",
    "Am_fillet = (3.141*(dm_fillets)**2)/4\n",
    "\n",
    "Am_square = (0.75 - t)**2\n",
    "\n",
    "Am_b = Am_square+Am_fillet\n",
    "\n",
    "Torq_b = Tau_max*2*Am_b*t\n",
    "\n",
    "print(\"Torque for thin walled tube with fillets is: \", Torq_b, \"lb-in\")\n",
    "\n",
    "# Find Angle of Torque\n",
    "\n",
    "phi_b = (Torq_b*Lm) / (4*G*(Am_b**2)*t) # in radians, multiply by 180/pi to convert to degrees\n",
    "\n",
    "phi_b_deg = (180/(3.141))*phi_b\n",
    "\n",
    "print(\"The angle of torque is \", phi_b_deg, \"degrees\")"
   ]
  },
  {
   "cell_type": "markdown",
   "id": "5ab4f977",
   "metadata": {},
   "source": [
    "# Problem 3.64\n",
    "**The thin-walled open cross section shown is transmitting torque T. The angle of twist\n",
    "per unit length of each leg can be determined separately using Equation (3–47) and\n",
    "is given by**"
   ]
  },
  {
   "cell_type": "markdown",
   "id": "783e9a02",
   "metadata": {},
   "source": [
    "## Part A"
   ]
  },
  {
   "cell_type": "markdown",
   "id": "265eac55",
   "metadata": {},
   "source": [
    "### Equations\n",
    "\n"
   ]
  },
  {
   "cell_type": "code",
   "execution_count": null,
   "id": "262a615c",
   "metadata": {},
   "outputs": [],
   "source": []
  },
  {
   "cell_type": "markdown",
   "id": "caf3d091",
   "metadata": {},
   "source": [
    "### My Solution"
   ]
  },
  {
   "cell_type": "code",
   "execution_count": 22,
   "id": "cacd7ec2",
   "metadata": {},
   "outputs": [
    {
     "name": "stdout",
     "output_type": "stream",
     "text": [
      "Angle of Torque [rad/m] 0.3477825977301387\n",
      "Torque 1 [N-m]: 1.4708885333333335\n",
      "Torque 2  [N-m]: 7.4463732\n",
      "Torque 3  [N-m]: 0.0\n",
      "Combined Torques [N-m] 8.917261733333333\n"
     ]
    }
   ],
   "source": [
    "#each leg is steel and has a max allowable shear stress of 12kpsi\n",
    "\n",
    "# the angle of twist in each leg is the same\n",
    "\n",
    "#Given\n",
    "\n",
    "c1 = 2 * 10**-3#mm to m\n",
    "c2 = 3 * 10**-3#mm\n",
    "c3 = 0 *10**-3#mm\n",
    "\n",
    "tau_max = 12000*6894.79 #psi to Pa\n",
    "\n",
    "L1 = 0.020 #mm\n",
    "L2 = 0.030 #mm\n",
    "L3 = 0\n",
    "\n",
    "G = 79.3*(10**9)\n",
    "# find the torque transmitted by each leg and the torque transmitted by the entire section\n",
    "# Part B First to find angle of torque\n",
    "\n",
    "theta = tau_max / (c2*G)\n",
    "\n",
    "print(\"Angle of Torque [rad/m]\", theta) # in rad/m\n",
    "\n",
    "# Torques for each leg\n",
    "\n",
    "T1 = theta*(G*L1*(c1**3))/(3)\n",
    "T2 = theta*(G*L2*(c2**3))/(3)\n",
    "T3 = theta*(G*L3*(c3**3))/(3)\n",
    "\n",
    "print(\"Torque 1 [N-m]:\",T1)\n",
    "print(\"Torque 2  [N-m]:\",T2)\n",
    "print(\"Torque 3  [N-m]:\",T3)\n",
    "# all in units of N-m\n",
    "# add together to get total torque\n",
    "\n",
    "T_total = T1+T2+T3\n",
    "\n",
    "print(\"Combined Torques [N-m]\", T_total)"
   ]
  },
  {
   "cell_type": "markdown",
   "id": "de498384",
   "metadata": {},
   "source": [
    "# Problem 3.81"
   ]
  },
  {
   "cell_type": "markdown",
   "id": "cb08b858",
   "metadata": {},
   "source": [
    "**A countershaft carrying two V-belt pulleys is shown in the figure. Pulley A receives\n",
    "to power from a motor through a belt with the belt tensions shown. The power is transmitted\n",
    "3–82* through the shaft and delivered to the belt on pulley B. Assume the belt tension on\n",
    "the loose side at B is 15 percent of the tension on the tight side.**"
   ]
  },
  {
   "cell_type": "markdown",
   "id": "47b449d2",
   "metadata": {},
   "source": [
    "### Free Body Diagrams"
   ]
  },
  {
   "cell_type": "markdown",
   "id": "e9fbce91",
   "metadata": {},
   "source": []
  },
  {
   "cell_type": "markdown",
   "id": "aab65031",
   "metadata": {},
   "source": [
    "### My Solution"
   ]
  },
  {
   "cell_type": "markdown",
   "id": "c3584496",
   "metadata": {},
   "source": [
    "### Part A"
   ]
  },
  {
   "cell_type": "code",
   "execution_count": 25,
   "id": "6cc16e73",
   "metadata": {},
   "outputs": [
    {
     "name": "stdout",
     "output_type": "stream",
     "text": [
      "Tension of T2b is [lbf]: 392.15686274509807\n",
      "Tension of T1a is [lbf] 58.82352941176471\n"
     ]
    }
   ],
   "source": [
    "T1a = 300 #lbf\n",
    "T2a = 50\n",
    "ra = 4 # in\n",
    "rb = 3 # in\n",
    "\n",
    "Ma = (T1a - T2a)*4\n",
    "\n",
    "Mb = Ma\n",
    "\n",
    "T2b = 1000/(0.85*3)\n",
    "print(\"Tension of T2b is [lbf]:\",T2b)\n",
    "\n",
    "T1b = 0.15*T2b # Relationship Equation\n",
    "print(\"Tension of T1a is [lbf]\", T1b)"
   ]
  },
  {
   "cell_type": "markdown",
   "id": "a573017a",
   "metadata": {},
   "source": [
    "### Part B"
   ]
  },
  {
   "cell_type": "code",
   "execution_count": 34,
   "id": "0729e9e7",
   "metadata": {},
   "outputs": [
    {
     "name": "stdout",
     "output_type": "stream",
     "text": [
      "Reaction forces at Bearings:\n",
      "Fcx is [lbf] -327.98573975044565\n",
      "Fcy is [lbf] -127.27272727272727\n",
      "Foy is [lbf]: -222.72727272727275\n",
      "Fox is [lbf]: -122.99465240641712\n"
     ]
    }
   ],
   "source": [
    "l1 = 8 #in\n",
    "l2 = 8\n",
    "l3 = 6\n",
    "\n",
    "\n",
    "# Sum of forces: Fx = 0\n",
    "# Fox + Fcx + T2b +T1b =0 \n",
    "\n",
    "# Sum of forces: Fy = 0\n",
    "# Foy + Fcy + T1a + T2a = 0\n",
    "\n",
    "# Solve moment equation about y axis to find Fcx\n",
    "# M = l*F\n",
    "print(\"Reaction forces at Bearings:\")\n",
    "Fcx = (-1*(l1 +l2)*(T2b+T1b))/(l1+l2+l3)\n",
    "print(\"Fcx is [lbf]\", Fcx)\n",
    "\n",
    "# Solve moment equation about x axis to find Fcy\n",
    "\n",
    "Fcy = (-1*(l1)*(T1a+T2a))/(l1+l2+l3)\n",
    "print(\"Fcy is [lbf]\", Fcy)\n",
    "\n",
    "Foy = -1*(T1a+T2a+Fcy)\n",
    "print(\"Foy is [lbf]:\", Foy)\n",
    "\n",
    "Fox = -1*(T1b+T2b+Fcx)\n",
    "print(\"Fox is [lbf]:\", Fox)\n"
   ]
  },
  {
   "cell_type": "code",
   "execution_count": null,
   "id": "7ba0e071",
   "metadata": {},
   "outputs": [],
   "source": []
  }
 ],
 "metadata": {
  "kernelspec": {
   "display_name": "Python 3 (ipykernel)",
   "language": "python",
   "name": "python3"
  },
  "language_info": {
   "codemirror_mode": {
    "name": "ipython",
    "version": 3
   },
   "file_extension": ".py",
   "mimetype": "text/x-python",
   "name": "python",
   "nbconvert_exporter": "python",
   "pygments_lexer": "ipython3",
   "version": "3.11.5"
  }
 },
 "nbformat": 4,
 "nbformat_minor": 5
}

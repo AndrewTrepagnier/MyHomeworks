{
 "cells": [
  {
   "cell_type": "markdown",
   "id": "8ebb367d66806916",
   "metadata": {},
   "source": [
    "# Energy Systems Design - Assignment 1\n",
    "### By: Andrew Trepagnier\n",
    "### NetID: alt658\n",
    "### Date: 9/20/2024\n",
    "### Instructor: Jian Zhoa\n",
    "\n"
   ]
  },
  {
   "cell_type": "code",
   "execution_count": 435,
   "id": "initial_id",
   "metadata": {
    "ExecuteTime": {
     "end_time": "2024-09-23T16:54:01.710616Z",
     "start_time": "2024-09-23T16:54:01.696904Z"
    },
    "collapsed": true,
    "jupyter": {
     "outputs_hidden": true
    }
   },
   "outputs": [],
   "source": [
    "import numpy as np\n",
    "import matplotlib.pyplot as plt\n",
    "import sympy as sp\n",
    "from IPython.display import Image"
   ]
  },
  {
   "cell_type": "markdown",
   "id": "6aad6efc0ffcdb30",
   "metadata": {},
   "source": [
    "\n",
    "\n",
    "# Question (1)\n",
    "\n",
    "Using the Moody diagram to determine the following properties:\n",
    "\n",
    "(a) For a segment of a pipe, ε=0.06 mm, D = 5 cm, V = 4 m/s, and ν =6×10⁻⁶ m²/s.\n",
    "Find the fiction factor f and the fully rough friction factor f_T\n"
   ]
  },
  {
   "cell_type": "code",
   "execution_count": 436,
   "id": "7167b972453058fa",
   "metadata": {
    "ExecuteTime": {
     "end_time": "2024-09-23T16:54:01.778866Z",
     "start_time": "2024-09-23T16:54:01.761794Z"
    }
   },
   "outputs": [
    {
     "name": "stdout",
     "output_type": "stream",
     "text": [
      "Re  33333.333333333336\n",
      "roughness 0.0012\n",
      "The fully rough friction factor is 0.025\n",
      "The calculated friction factor is approx. 0.035\n"
     ]
    }
   ],
   "source": [
    "D = 5/100\n",
    "V = 4\n",
    "vis = 6e-6\n",
    "ep = 0.06/1000\n",
    "\n",
    "\n",
    "Re = D*V/vis\n",
    "print(\"Re \", Re)\n",
    "\n",
    "roughness = ep/D\n",
    "print(\"roughness\", roughness)\n",
    "print(\"The fully rough friction factor is 0.025\")\n",
    "print(\"The calculated friction factor is approx. 0.035\")"
   ]
  },
  {
   "cell_type": "markdown",
   "id": "7cd0cd999ca7ffae",
   "metadata": {},
   "source": [
    "\n",
    "![Problem 1 B](img/prob1b_1.png)"
   ]
  },
  {
   "cell_type": "markdown",
   "id": "9d5a2c383816effc",
   "metadata": {},
   "source": [
    "# Question (2)\n",
    "\n",
    "![MOODY CHART](img/problem_2.png)"
   ]
  },
  {
   "cell_type": "code",
   "execution_count": null,
   "id": "474f08c0570263e3",
   "metadata": {
    "ExecuteTime": {
     "end_time": "2024-09-23T16:54:02.315875Z",
     "start_time": "2024-09-23T16:54:02.306043Z"
    }
   },
   "outputs": [],
   "source": []
  },
  {
   "cell_type": "markdown",
   "id": "c14e99f30d682f9b",
   "metadata": {},
   "source": [
    "\n",
    "# Question (3)\n",
    "\n",
    "![MOODY CHART](img/q3.png)\n",
    "\n",
    "![MOODY CHART](img/prob3_ans.png)\n",
    "\n",
    "# Question (4)\n",
    "A 14-inch (nominal) schedule 40 cast-iron pipe is used to convey 12 million\n",
    "gallons per day of benzene. The pipeline is 3 miles long, the pump motor is 39%\n",
    "efficient, and electricity costs 7.5 cents per kWh. An arrangement with a 12-inch\n",
    "and a 16-inch line in parallel with the existing 14-inch line is to be investigated.\n",
    "(a) What is the yearly pumping cost for the single pipe?"
   ]
  },
  {
   "cell_type": "code",
   "execution_count": null,
   "id": "d4b04a4e8807772",
   "metadata": {
    "ExecuteTime": {
     "end_time": "2024-09-23T16:54:02.334232Z",
     "start_time": "2024-09-23T16:54:02.327524Z"
    }
   },
   "outputs": [],
   "source": []
  },
  {
   "cell_type": "code",
   "execution_count": 437,
   "id": "2647e5ba176fa0b1",
   "metadata": {
    "ExecuteTime": {
     "end_time": "2024-09-23T16:54:02.953581Z",
     "start_time": "2024-09-23T16:54:02.878893Z"
    }
   },
   "outputs": [
    {
     "name": "stdout",
     "output_type": "stream",
     "text": [
      "Q 18.61111111111111\n",
      "V [m/s] =  19.811276951504023\n",
      "Di 1.0936666666666668\n"
     ]
    }
   ],
   "source": [
    "Di = 13.124/12 #ft\n",
    "rho = 55.5/32.2 #lbm/ft^3\n",
    "u = 4.60e-4/32.2 # lbm/ft/s\n",
    "ep = 0.00015\n",
    "g = 32.2\n",
    "\n",
    "Q_T = (12e6*0.134)/(24*3600) # ft^3/s\n",
    "l = 3*5280 # ft\n",
    "n = 0.39\n",
    "\n",
    "print(\"Q\", Q)\n",
    "V = Q/(0.25*sp.pi*(Di**2))\n",
    "print(\"V [m/s] = \", float(V))\n",
    "print(\"Di\", Di)"
   ]
  },
  {
   "cell_type": "code",
   "execution_count": 438,
   "id": "dcf826a2420bb7e9",
   "metadata": {
    "ExecuteTime": {
     "end_time": "2024-09-23T16:54:03.025020Z",
     "start_time": "2024-09-23T16:54:03.018823Z"
    }
   },
   "outputs": [
    {
     "name": "stdout",
     "output_type": "stream",
     "text": [
      "Rey  2614162.5957410154\n",
      "The relative roughness is  0.00013715330691862235\n",
      "Based on the moody diagram, relative roughness, reynolds number, the friction factor f is approx. 0.013\n"
     ]
    }
   ],
   "source": [
    "Rey = V*Di*rho/u\n",
    "print(\"Rey \", float(Rey))\n",
    "# based off moody diagram, Re = 2.6e6\n",
    "\n",
    "rough = ep/Di\n",
    "\n",
    "print(\"The relative roughness is \", rough)\n",
    "print(\"Based on the moody diagram, relative roughness, reynolds number, the friction factor f is approx. 0.013\")\n",
    "f = 0.013"
   ]
  },
  {
   "cell_type": "code",
   "execution_count": 439,
   "id": "5cc5791bc6fa86d9",
   "metadata": {
    "ExecuteTime": {
     "end_time": "2024-09-23T16:54:03.216213Z",
     "start_time": "2024-09-23T16:54:03.202828Z"
    }
   },
   "outputs": [
    {
     "name": "stdout",
     "output_type": "stream",
     "text": [
      "Ws  1147.4998171428113\n"
     ]
    }
   ],
   "source": [
    "Ws = (V**2)*(f*l)/(2*g*Di)\n",
    "print(\"Ws \", float(Ws))"
   ]
  },
  {
   "cell_type": "code",
   "execution_count": 440,
   "id": "70b7cea91a0b0f0b",
   "metadata": {
    "ExecuteTime": {
     "end_time": "2024-09-23T16:54:03.783982Z",
     "start_time": "2024-09-23T16:54:03.770774Z"
    }
   },
   "outputs": [
    {
     "name": "stdout",
     "output_type": "stream",
     "text": [
      "Power to fluid [lbf-ft/sec] = 36809.67969328453\n",
      "Power required to fluid [hp] = 94383.79408534494\n"
     ]
    }
   ],
   "source": [
    "power_to_fluid = rho*Ws*Q\n",
    "print(\"Power to fluid [lbf-ft/sec] =\", float(power_to_fluid))\n",
    "\n",
    "power_required = power_to_fluid/n\n",
    "print(\"Power required to fluid [hp] =\", float(power_required))"
   ]
  },
  {
   "cell_type": "markdown",
   "id": "235b6b15244b542a",
   "metadata": {},
   "source": [
    "### Scratch Work showing conversion of cost rate:\n",
    "\n"
   ]
  },
  {
   "cell_type": "markdown",
   "id": "941188e78414da43",
   "metadata": {},
   "source": [
    "\n",
    "![MOODY CHART](img/scratch1.png)"
   ]
  },
  {
   "cell_type": "code",
   "execution_count": 441,
   "id": "c530c516b8784e71",
   "metadata": {
    "ExecuteTime": {
     "end_time": "2024-09-23T16:54:03.835474Z",
     "start_time": "2024-09-23T16:54:03.827713Z"
    }
   },
   "outputs": [
    {
     "name": "stdout",
     "output_type": "stream",
     "text": [
      "Annual cost for the single pipe [$]  84074.25225740271\n"
     ]
    }
   ],
   "source": [
    "# 1kw = 1.34102 hp\n",
    "# 1kw = 737.56 lb-ft/s\n",
    "\n",
    "costrate = 0.89077 #unit conversion gave $0.89352/ftlb/s - year \n",
    "\n",
    "yearly_cost_single = power_required*costrate\n",
    "print(\"Annual cost for the single pipe [$] \", float(yearly_cost_single))\n"
   ]
  },
  {
   "cell_type": "markdown",
   "id": "f5832f3a0c8824a9",
   "metadata": {},
   "source": [
    "### Part B \n",
    "\n",
    "Since the system is parallel, the pressure drop must be the same across the nodes, therefore, Ws must be the same."
   ]
  },
  {
   "cell_type": "code",
   "execution_count": 442,
   "id": "6c54420332712687",
   "metadata": {
    "ExecuteTime": {
     "end_time": "2024-09-23T16:54:03.984567Z",
     "start_time": "2024-09-23T16:54:03.976552Z"
    }
   },
   "outputs": [
    {
     "name": "stdout",
     "output_type": "stream",
     "text": [
      "1147.4998171428113\n"
     ]
    }
   ],
   "source": [
    "print(float(Ws))\n",
    "# This is head of 14\" pipe"
   ]
  },
  {
   "cell_type": "code",
   "execution_count": 443,
   "id": "ab5d2276eb58c84",
   "metadata": {
    "ExecuteTime": {
     "end_time": "2024-09-23T16:54:04.131034Z",
     "start_time": "2024-09-23T16:54:04.117640Z"
    }
   },
   "outputs": [
    {
     "name": "stdout",
     "output_type": "stream",
     "text": [
      "Rey  2873870.8248035745\n",
      "The relative roughness for 12in is  0.00015077902496230523\n",
      "Based on Moody, the friction factor is approx. 0.014\n"
     ]
    }
   ],
   "source": [
    "# Head for the 12\" pipe\n",
    "Di_2 = 11.938/12 #ft\n",
    "V_2 = Q/(0.25*sp.pi*(Di_2**2))\n",
    "Rey_2 = V_2*Di_2*rho/u\n",
    "print(\"Rey \", float(Rey_2))\n",
    "rough_2 = ep/Di_2\n",
    "print(\"The relative roughness for 12in is \", rough_2)\n",
    "print(\"Based on Moody, the friction factor is approx. 0.014\")\n",
    "f_2 = 0.014"
   ]
  },
  {
   "cell_type": "code",
   "execution_count": 444,
   "id": "7ea02051cc7ce57c",
   "metadata": {
    "ExecuteTime": {
     "end_time": "2024-09-23T16:54:04.290221Z",
     "start_time": "2024-09-23T16:54:04.278365Z"
    }
   },
   "outputs": [
    {
     "name": "stdout",
     "output_type": "stream",
     "text": [
      "Ws for 12in pipe  82.87599978593235\n",
      "Power to fluid [ft-lbf/s]  = 2658.5093616631248\n"
     ]
    }
   ],
   "source": [
    "Ws_2 = V_2*(f_2*l)/(2*g*Di_2)\n",
    "print(\"Ws for 12in pipe \", float(Ws_2))\n",
    "\n",
    "power_to_fluid_2 = rho*Ws_2*Q\n",
    "print(\"Power to fluid [ft-lbf/s]  =\", float(power_to_fluid_2))"
   ]
  },
  {
   "cell_type": "code",
   "execution_count": 445,
   "id": "834962e1305461c",
   "metadata": {
    "ExecuteTime": {
     "end_time": "2024-09-23T16:54:04.594080Z",
     "start_time": "2024-09-23T16:54:04.579336Z"
    }
   },
   "outputs": [
    {
     "name": "stdout",
     "output_type": "stream",
     "text": [
      "Rey  2287217.993767006\n",
      "The relative roughness for 16in is  0.00011999999999999999\n",
      "Based on Moody, the friction factor is approx. 0.013\n"
     ]
    }
   ],
   "source": [
    "# Head for the 16\" pipe\n",
    "Di_3 = 15 / 12  #ft\n",
    "V_3 = Q / (0.25 * sp.pi * (Di_3 ** 2))\n",
    "Rey_3 = V_3 * Di_3 * rho / u\n",
    "print(\"Rey \", float(Rey_3))\n",
    "rough_3 = ep / Di_3\n",
    "print(\"The relative roughness for 16in is \", rough_3)\n",
    "print(\"Based on Moody, the friction factor is approx. 0.013\")\n",
    "f_3 = 0.013"
   ]
  },
  {
   "cell_type": "code",
   "execution_count": 446,
   "id": "b4dc6c3c7e3ceaf0",
   "metadata": {
    "ExecuteTime": {
     "end_time": "2024-09-23T16:54:04.628506Z",
     "start_time": "2024-09-23T16:54:04.619230Z"
    }
   },
   "outputs": [
    {
     "name": "stdout",
     "output_type": "stream",
     "text": [
      "Ws for 12in pipe  38.79404308068998\n",
      "Power to fluid [ft-lbf/s]  = 1244.441418181036\n"
     ]
    }
   ],
   "source": [
    "Ws_3 = V_3*(f_3*l)/(2*g*Di_3)\n",
    "print(\"Ws for 12in pipe \", float(Ws_3))\n",
    "\n",
    "power_to_fluid_3 = rho*Ws_3*Q\n",
    "print(\"Power to fluid [ft-lbf/s]  =\", float(power_to_fluid_3))"
   ]
  },
  {
   "cell_type": "code",
   "execution_count": 447,
   "id": "79591a4f9935e756",
   "metadata": {
    "ExecuteTime": {
     "end_time": "2024-09-23T16:54:04.802352Z",
     "start_time": "2024-09-23T16:54:04.786704Z"
    }
   },
   "outputs": [
    {
     "name": "stdout",
     "output_type": "stream",
     "text": [
      "The head required to push the fluid is 7.45 feet squared per second squared.\n",
      "12\" pipe flow rate is 3.86 cfs.\n",
      "14\" pipe flow rate is 3.26 cfs.\n",
      "16\" pipe flow rate is 2.88 cfs.\n",
      "7.450739428319538\n"
     ]
    }
   ],
   "source": [
    "import numpy as np\n",
    "from scipy.optimize import fsolve\n",
    "\n",
    "# Define the missing functions\n",
    "def Ws_2(Ws, Q):\n",
    "    # Define this function based on your system's equations\n",
    "    return Ws - 0.5 * Q**2  # Example equation, replace with your actual equation\n",
    "\n",
    "def Ws_func(Ws, Q):\n",
    "    # Define this function based on your system's equations\n",
    "    return Ws - 0.7 * Q**2  # Example equation, replace with your actual equation\n",
    "\n",
    "def Ws_3(Ws, Q):\n",
    "    # Define this function based on your system's equations\n",
    "    return Ws - 0.9 * Q**2  # Example equation, replace with your actual equation\n",
    "\n",
    "# Define Q_T (total flow rate)\n",
    "Q_T = 10  # This is an example value, replace with your actual value\n",
    "\n",
    "def system(x):\n",
    "    Ws, Q1, Q2, Q3 = x\n",
    "    return [\n",
    "        Ws_2(Ws, Q1),\n",
    "        Ws_func(Ws, Q2),\n",
    "        Ws_3(Ws, Q3),\n",
    "        Q_T - Q1 - Q2 - Q3\n",
    "    ]\n",
    "\n",
    "# Initial guess\n",
    "initial_guess = np.array([100, Q_T/3, Q_T/3, Q_T/3])\n",
    "\n",
    "# Solve the system\n",
    "Ws, Q_1, Q_2, Q_3 = fsolve(system, initial_guess)\n",
    "\n",
    "print(f'The head required to push the fluid is {Ws:.2f} feet squared per second squared.')\n",
    "print(f'12\" pipe flow rate is {Q_1:.2f} cfs.')\n",
    "print(f'14\" pipe flow rate is {Q_2:.2f} cfs.')\n",
    "print(f'16\" pipe flow rate is {Q_3:.2f} cfs.')\n",
    "print(Ws)"
   ]
  },
  {
   "cell_type": "code",
   "execution_count": 448,
   "id": "32560e022a8785bd",
   "metadata": {
    "ExecuteTime": {
     "end_time": "2024-09-23T16:54:05.196073Z",
     "start_time": "2024-09-23T16:54:05.183534Z"
    }
   },
   "outputs": [
    {
     "name": "stdout",
     "output_type": "stream",
     "text": [
      "The cost per year for the parallel arrangement is 293.31715353664015 dollars per year.\n"
     ]
    }
   ],
   "source": [
    "# This number seems realy low, not sure where the error is in my code\n",
    "power_B = rho*Q_T*Ws/0.39\n",
    "\n",
    "\n",
    "annual_cost_par = power_B*costrate\n",
    "print(f'The cost per year for the parallel arrangement is {annual_cost_par} dollars per year.')"
   ]
  },
  {
   "cell_type": "markdown",
   "id": "2fd4be383ca7b6fb",
   "metadata": {},
   "source": [
    "## Problem 5"
   ]
  },
  {
   "cell_type": "code",
   "execution_count": 449,
   "id": "7eb76425de5ef2d3",
   "metadata": {
    "ExecuteTime": {
     "end_time": "2024-09-23T16:54:05.407679Z",
     "start_time": "2024-09-23T16:54:05.397146Z"
    }
   },
   "outputs": [],
   "source": [
    "# easier to read these as sympy symbols\n",
    "gamma = sp.symbols(r'\\gamma')\n",
    "\n",
    "Ws = sp.symbols('W_s')\n",
    "\n",
    "hf = sp.symbols('h_f')\n",
    "\n",
    "g = sp.symbols('g')\n",
    "\n",
    "P_in = sp.symbols('P_{in}')\n",
    "P_out = sp.symbols('P_{out}')\n",
    "\n",
    "V_in = sp.symbols('V_{in}')\n",
    "V_out = sp.symbols('V_{out}')\n",
    "\n",
    "z_in = sp.symbols('z_{in}')\n",
    "z_out = sp.symbols('z_{out}')\n",
    "\n",
    "\n",
    "# defining my values\n",
    "L_num = 7000\n",
    "D_num = 60 \n",
    "ep_num = 0.01\n",
    "h = 1250\n",
    "rho_num = 1.934 #converted to slug/ft^3\n",
    "mu_num = 2.043e-5 #also divided by 32.2 for conversion\n",
    "\n",
    "n_turbine = 0.92\n",
    "n_pump = 0.82\n",
    "\n",
    "z_in = h\n"
   ]
  },
  {
   "cell_type": "markdown",
   "id": "55fa7cb974987b9a",
   "metadata": {},
   "source": [
    "Since the pressures are at atmospheric conditions, P_in, P_out = 0 \n",
    "The resevoirs are big, so we can say the velocity Vin, Vout = 0\n",
    "Zout = datum = 0 \n",
    "\n"
   ]
  },
  {
   "cell_type": "code",
   "execution_count": 450,
   "id": "83f5ca25e2b47266",
   "metadata": {
    "ExecuteTime": {
     "end_time": "2024-09-23T16:54:05.441541Z",
     "start_time": "2024-09-23T16:54:05.413182Z"
    }
   },
   "outputs": [
    {
     "data": {
      "text/latex": [
       "$\\displaystyle W_{s} = 1250 g - h_{f}$"
      ],
      "text/plain": [
       "Eq(W_s, 1250*g - h_f)"
      ]
     },
     "execution_count": 450,
     "metadata": {},
     "output_type": "execute_result"
    }
   ],
   "source": [
    "headeq_1 = sp.Eq(Ws, g*z_in - hf)\n",
    "headeq_1"
   ]
  },
  {
   "cell_type": "markdown",
   "id": "5f693037319c720",
   "metadata": {},
   "source": [
    "Now, hf = (K_major + K_ minor)*(V^2/2) "
   ]
  },
  {
   "cell_type": "code",
   "execution_count": 451,
   "id": "28b240c432377bd6",
   "metadata": {
    "ExecuteTime": {
     "end_time": "2024-09-23T16:54:05.651417Z",
     "start_time": "2024-09-23T16:54:05.628611Z"
    }
   },
   "outputs": [
    {
     "data": {
      "text/latex": [
       "$\\displaystyle W_{s} = - \\frac{Q_{sym}^{2} \\left(116.666666666667 f_{laminar} + 8.102982\\right)}{1620000 \\pi^{2}} + 1250 g$"
      ],
      "text/plain": [
       "Eq(W_s, -Q_{sym}**2*(116.666666666667*f_{laminar} + 8.102982)/(1620000*pi**2) + 1250*g)"
      ]
     },
     "execution_count": 451,
     "metadata": {},
     "output_type": "execute_result"
    }
   ],
   "source": [
    "\n",
    "f_laminar_sym = sp.symbols('f_{laminar}')\n",
    "K_minor = sp.symbols('K_{minor}')\n",
    "Q_sym = sp.symbols('Q_{sym}')\n",
    "\n",
    "# I calculated ft on my calculator using epsilon = 0.01 and D = 60, it is faster just to input into python manually\n",
    "Ft = 0.013259\n",
    "K_minor_1 = 1.5 + 498*Ft\n",
    "\n",
    "headeq_2 = headeq_1.subs(hf, 8*(Q_sym**2)*(f_laminar_sym*(L_num/D_num) + K_minor_1)/(sp.pi**2*D_num**4) )\n",
    "headeq_2"
   ]
  },
  {
   "cell_type": "markdown",
   "id": "acb78776f8374999",
   "metadata": {},
   "source": [
    "Equation looks strange, but it should be Ws = .... \n",
    "K_minor = 0.5 + 1 + 6(8)Ft + 14(30)Ft + 10(3)Ft\n",
    "\n",
    "and Ft is now known, so we know K_minor simplifies to:\n"
   ]
  },
  {
   "cell_type": "code",
   "execution_count": 452,
   "id": "c354a63fa8918350",
   "metadata": {
    "ExecuteTime": {
     "end_time": "2024-09-23T16:54:05.998282Z",
     "start_time": "2024-09-23T16:54:05.984967Z"
    }
   },
   "outputs": [],
   "source": [
    "# define these symbols\n",
    "Re_num = sp.symbols('Re_{num}')\n",
    "\n",
    "\n",
    "#Reynolds was a function of one unknown, Q_sym\n",
    "\n",
    "Re_num = 4*rho_num*Q_sym/(sp.pi*D_num*mu_num)\n",
    "\n",
    "\n",
    "# I put the reynolds eq as a function of Q into it so now my whole head function is just dependent on Q\n",
    "\n",
    "f_laminar_eq =  (0.3086)*sp.log(10)**2/(sp.log(6.9/Re_num + (ep_num/(D_num*3.7))**1.11))**2\n",
    "\n",
    "# sympy doesnt have log 10 so i had to use log rules\n",
    "\n",
    "\n",
    "\n",
    "# now we can substitute this f_laminar into my head equation and make it all a function of Q\n",
    "# everything subbed into the equation now:\n"
   ]
  },
  {
   "cell_type": "code",
   "execution_count": 453,
   "id": "c2b5844f21a9491e",
   "metadata": {
    "ExecuteTime": {
     "end_time": "2024-09-23T16:54:06.024671Z",
     "start_time": "2024-09-23T16:54:06.003782Z"
    }
   },
   "outputs": [],
   "source": [
    "\n",
    "headeq_3 = headeq_2.subs(f_laminar_sym, f_laminar_eq)\n",
    "\n",
    "# headeq_4 = headeq_2.subs(K_minor, K_minor_1)\n",
    "# headeq_4\n",
    "# \n",
    "# headeq_5 = headeq_4.subs(K_major, K_major_1)\n",
    "# headeq_5\n",
    "\n"
   ]
  },
  {
   "cell_type": "code",
   "execution_count": 454,
   "id": "fbd6f1929fbc181e",
   "metadata": {
    "ExecuteTime": {
     "end_time": "2024-09-23T16:54:06.634358Z",
     "start_time": "2024-09-23T16:54:06.212295Z"
    }
   },
   "outputs": [
    {
     "name": "stdout",
     "output_type": "stream",
     "text": [
      "[{W_s: 1250.0*g - 1509.0448389156}]\n"
     ]
    }
   ],
   "source": [
    "from sympy import solve\n",
    "head_4 = headeq_3.subs(Q_sym, 50000)\n",
    "head_4\n",
    "\n",
    "solution = solve(head_4)\n",
    "print(solution)"
   ]
  },
  {
   "cell_type": "code",
   "execution_count": 455,
   "id": "eaaa5e44c274f4c2",
   "metadata": {
    "ExecuteTime": {
     "end_time": "2024-09-23T16:54:07.318440Z",
     "start_time": "2024-09-23T16:54:06.811657Z"
    }
   },
   "outputs": [
    {
     "name": "stdout",
     "output_type": "stream",
     "text": [
      "[{W_s: 1250.0*g - 13580.208169733}]\n"
     ]
    }
   ],
   "source": [
    "head_4 = headeq_3.subs(Q_sym, 150000)\n",
    "head_4\n",
    "\n",
    "solution = solve(head_4)\n",
    "print(solution)"
   ]
  },
  {
   "cell_type": "code",
   "execution_count": 456,
   "id": "787857c8d63638c8",
   "metadata": {
    "ExecuteTime": {
     "end_time": "2024-09-23T16:54:07.910339Z",
     "start_time": "2024-09-23T16:54:07.524861Z"
    }
   },
   "outputs": [
    {
     "name": "stdout",
     "output_type": "stream",
     "text": [
      "[{W_s: 1250.0*g - 18484.0558748449}]\n"
     ]
    }
   ],
   "source": [
    "head_4 = headeq_3.subs(Q_sym, 175000)\n",
    "head_4\n",
    "\n",
    "solution = solve(head_4)\n",
    "print(solution)"
   ]
  },
  {
   "cell_type": "code",
   "execution_count": 457,
   "id": "2f0563a945658631",
   "metadata": {
    "ExecuteTime": {
     "end_time": "2024-09-23T16:54:08.334105Z",
     "start_time": "2024-09-23T16:54:08.097550Z"
    }
   },
   "outputs": [
    {
     "name": "stdout",
     "output_type": "stream",
     "text": [
      "[{W_s: 1250.0*g - 37722.1354837542}]\n"
     ]
    }
   ],
   "source": [
    "head_4 = headeq_3.subs(Q_sym, 250000)\n",
    "head_4\n",
    "\n",
    "solution = solve(head_4)\n",
    "print(solution)"
   ]
  },
  {
   "cell_type": "markdown",
   "id": "8711ff6592d5e1cc",
   "metadata": {},
   "source": [
    "Couldn't figure out how to get it to plot, so I did a few values manually:\n",
    "\n",
    "1- 50,000 cfs\n",
    "2- 150,000 cfs\n",
    "3- 175,000 cfs\n",
    "4- 250,000 cfs\n",
    "\n",
    "at 150,000 cfs, I finished the rest of the calculations by hand to find the power of the fluid then multiplied that by the turbine efficiency\n",
    "ws(150,000) is Ws as a function of 150,000\n",
    "\n",
    "Ws(150,000)*rho*150,000 / 550 = 14067212\n",
    "\n",
    "then 14067212*0.89 = my maximum power\n",
    "\n",
    "MAX Power in [hp] = 12,941,835 \n",
    "\n",
    "## Part B\n",
    "\n",
    "The max power occurs at approximately 150,000 cfs\n",
    "\n"
   ]
  },
  {
   "cell_type": "code",
   "execution_count": 458,
   "id": "cc6862d63ecea948",
   "metadata": {
    "ExecuteTime": {
     "end_time": "2024-09-23T16:54:08.501334Z",
     "start_time": "2024-09-23T16:54:08.490652Z"
    }
   },
   "outputs": [],
   "source": [
    "# Ws_ = sp.lambdify(Q_sym, headeq_3.rhs, modules='numpy')"
   ]
  },
  {
   "cell_type": "code",
   "execution_count": 459,
   "id": "6dfcd8cf94002587",
   "metadata": {
    "ExecuteTime": {
     "end_time": "2024-09-23T16:54:08.633802Z",
     "start_time": "2024-09-23T16:54:08.623347Z"
    }
   },
   "outputs": [],
   "source": [
    "# vol_flow_rates = np.linspace(50000, 250000, 100000)\n",
    "# power_of_fluid = rho*Ws_(vol_flow_rates)*vol_flow_rates/550\n",
    "# power_shaft = n_turbine*power_of_fluid\n",
    "\n",
    "# fig, ax = plt.subplots()\n",
    "# ax.plot(vol_flow_rates, power_of_fluid, label='Fluid Power', ls='--')\n",
    "# ax.plot(vol_flow_rates, power_shaft, label='Shaft Power')\n",
    "# ax.set_xlabel(r'Flow Rate, $Q$ ($\\frac{ft^3}{s}$)')\n",
    "# ax.set_ylabel(r'Power ($hp$)')\n",
    "# ax.set_title('Turbine')\n",
    "# ax.legend()\n",
    "# plt.show()"
   ]
  },
  {
   "cell_type": "code",
   "execution_count": 460,
   "id": "a246f5c40089855c",
   "metadata": {
    "ExecuteTime": {
     "end_time": "2024-09-23T16:54:08.877855Z",
     "start_time": "2024-09-23T16:54:08.867057Z"
    }
   },
   "outputs": [],
   "source": [
    "# max_power_gen = np.max(power_of_fluid)\n",
    "# print(f'The maximum power is {max_power_gen} horse power.')"
   ]
  },
  {
   "cell_type": "code",
   "execution_count": 461,
   "id": "279d2f474eda7739",
   "metadata": {
    "ExecuteTime": {
     "end_time": "2024-09-23T16:54:08.896372Z",
     "start_time": "2024-09-23T16:54:08.890998Z"
    }
   },
   "outputs": [],
   "source": [
    "# jupyter nbconvert --to pdf my_notebook.ipynb\n",
    "# jupyter nbconvert --to pdf '.\\ESD - Assignment 1 - Alt658.ipynb'\n"
   ]
  }
 ],
 "metadata": {
  "kernelspec": {
   "display_name": "Python 3 (ipykernel)",
   "language": "python",
   "name": "python3"
  },
  "language_info": {
   "codemirror_mode": {
    "name": "ipython",
    "version": 3
   },
   "file_extension": ".py",
   "mimetype": "text/x-python",
   "name": "python",
   "nbconvert_exporter": "python",
   "pygments_lexer": "ipython3",
   "version": "3.12.5"
  }
 },
 "nbformat": 4,
 "nbformat_minor": 5
}

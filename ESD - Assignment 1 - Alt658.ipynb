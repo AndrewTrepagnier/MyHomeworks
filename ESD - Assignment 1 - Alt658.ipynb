{
 "cells": [
  {
   "cell_type": "markdown",
   "id": "8ebb367d66806916",
   "metadata": {},
   "source": [
    "# Energy Systems Design - Assignment 1\n",
    "### By: Andrew Trepagnier\n",
    "### NetID: alt658\n",
    "### Date: 9/20/2024\n",
    "### Instructor: Jian Zhoa\n",
    "\n"
   ]
  },
  {
   "cell_type": "code",
   "id": "initial_id",
   "metadata": {
    "collapsed": true,
    "jupyter": {
     "outputs_hidden": true
    },
    "ExecuteTime": {
     "end_time": "2024-09-23T21:33:07.535942Z",
     "start_time": "2024-09-23T21:33:07.528049Z"
    }
   },
   "source": [
    "import numpy as np\n",
    "import matplotlib.pyplot as plt\n",
    "import sympy as sp\n",
    "from IPython.display import Image"
   ],
   "outputs": [],
   "execution_count": 865
  },
  {
   "cell_type": "markdown",
   "id": "6aad6efc0ffcdb30",
   "metadata": {},
   "source": [
    "\n",
    "\n",
    "# Question (1)\n",
    "\n",
    "Using the Moody diagram to determine the following properties:\n",
    "\n",
    "(a) For a segment of a pipe, ε=0.06 mm, D = 5 cm, V = 4 m/s, and ν =6×10⁻⁶ m²/s.\n",
    "Find the fiction factor f and the fully rough friction factor f_T\n"
   ]
  },
  {
   "cell_type": "code",
   "id": "7167b972453058fa",
   "metadata": {
    "ExecuteTime": {
     "end_time": "2024-09-23T21:33:07.598453Z",
     "start_time": "2024-09-23T21:33:07.576820Z"
    }
   },
   "source": [
    "D = 5/100\n",
    "V = 4\n",
    "vis = 6e-6\n",
    "ep = 0.06/1000\n",
    "\n",
    "\n",
    "Re = D*V/vis\n",
    "print(\"Re \", Re)\n",
    "\n",
    "roughness = ep/D\n",
    "print(\"roughness\", roughness)\n",
    "print(\"The fully rough friction factor is 0.025\")\n",
    "print(\"The calculated friction factor is approx. 0.035\")"
   ],
   "outputs": [
    {
     "name": "stdout",
     "output_type": "stream",
     "text": [
      "Re  33333.333333333336\n",
      "roughness 0.0012\n",
      "The fully rough friction factor is 0.025\n",
      "The calculated friction factor is approx. 0.035\n"
     ]
    }
   ],
   "execution_count": 866
  },
  {
   "cell_type": "markdown",
   "id": "7cd0cd999ca7ffae",
   "metadata": {},
   "source": [
    "\n",
    "![Problem 1 B](img/prob1b_1.png)"
   ]
  },
  {
   "cell_type": "markdown",
   "id": "9d5a2c383816effc",
   "metadata": {},
   "source": [
    "# Question (2)\n",
    "\n",
    "![MOODY CHART](img/problem_2.png)"
   ]
  },
  {
   "cell_type": "code",
   "id": "474f08c0570263e3",
   "metadata": {
    "ExecuteTime": {
     "end_time": "2024-09-23T21:33:07.952671Z",
     "start_time": "2024-09-23T21:33:07.945558Z"
    }
   },
   "source": [],
   "outputs": [],
   "execution_count": null
  },
  {
   "cell_type": "markdown",
   "id": "c14e99f30d682f9b",
   "metadata": {},
   "source": [
    "\n",
    "# Question (3)\n",
    "\n",
    "![MOODY CHART](img/q3.png)\n",
    "\n",
    "![MOODY CHART](img/prob3_ans.png)\n",
    "\n",
    "# Question (4)\n",
    "A 14-inch (nominal) schedule 40 cast-iron pipe is used to convey 12 million\n",
    "gallons per day of benzene. The pipeline is 3 miles long, the pump motor is 39%\n",
    "efficient, and electricity costs 7.5 cents per kWh. An arrangement with a 12-inch\n",
    "and a 16-inch line in parallel with the existing 14-inch line is to be investigated.\n",
    "(a) What is the yearly pumping cost for the single pipe?"
   ]
  },
  {
   "cell_type": "code",
   "id": "d4b04a4e8807772",
   "metadata": {
    "ExecuteTime": {
     "end_time": "2024-09-23T21:33:07.966605Z",
     "start_time": "2024-09-23T21:33:07.956013Z"
    }
   },
   "source": [],
   "outputs": [],
   "execution_count": null
  },
  {
   "cell_type": "code",
   "id": "2647e5ba176fa0b1",
   "metadata": {
    "ExecuteTime": {
     "end_time": "2024-09-23T21:33:08.182125Z",
     "start_time": "2024-09-23T21:33:08.168380Z"
    }
   },
   "source": [
    "Di = 13.124/12 #ft\n",
    "rho = 55.5/32.2 #lbm/ft^3\n",
    "u = 4.60e-4/32.2 # lbm/ft/s\n",
    "ep = 0.00015\n",
    "g = 32.2\n",
    "\n",
    "Q_T = (12e6*0.134)/(24*3600) # ft^3/s\n",
    "l = 3*5280 # ft\n",
    "n = 0.39\n",
    "\n",
    "print(\"Q\", Q_T)\n",
    "V = Q_T/(0.25*sp.pi*(Di**2))\n",
    "print(\"V [m/s] = \", float(V))\n",
    "print(\"Di\", Di)"
   ],
   "outputs": [
    {
     "name": "stdout",
     "output_type": "stream",
     "text": [
      "Q 18.61111111111111\n",
      "V [m/s] =  19.811276951504023\n",
      "Di 1.0936666666666668\n"
     ]
    }
   ],
   "execution_count": 867
  },
  {
   "cell_type": "code",
   "id": "dcf826a2420bb7e9",
   "metadata": {
    "ExecuteTime": {
     "end_time": "2024-09-23T21:33:08.360774Z",
     "start_time": "2024-09-23T21:33:08.351347Z"
    }
   },
   "source": [
    "Rey = V*Di*rho/u\n",
    "print(\"Rey \", float(Rey))\n",
    "# based off moody diagram, Re = 2.6e6\n",
    "\n",
    "rough = ep/Di\n",
    "\n",
    "print(\"The relative roughness is \", rough)\n",
    "print(\"Based on the moody diagram, relative roughness, reynolds number, the friction factor f is approx. 0.0134\")\n",
    "f = 0.0134"
   ],
   "outputs": [
    {
     "name": "stdout",
     "output_type": "stream",
     "text": [
      "Rey  2614162.5957410154\n",
      "The relative roughness is  0.00013715330691862235\n",
      "Based on the moody diagram, relative roughness, reynolds number, the friction factor f is approx. 0.0134\n"
     ]
    }
   ],
   "execution_count": 868
  },
  {
   "metadata": {
    "ExecuteTime": {
     "end_time": "2024-09-23T21:33:08.547319Z",
     "start_time": "2024-09-23T21:33:08.537980Z"
    }
   },
   "cell_type": "code",
   "source": "",
   "id": "9e64fe5e6e2e4937",
   "outputs": [],
   "execution_count": null
  },
  {
   "metadata": {},
   "cell_type": "markdown",
   "source": "",
   "id": "192baf608181f672"
  },
  {
   "cell_type": "code",
   "id": "5cc5791bc6fa86d9",
   "metadata": {
    "ExecuteTime": {
     "end_time": "2024-09-23T21:33:08.754873Z",
     "start_time": "2024-09-23T21:33:08.740215Z"
    }
   },
   "source": [
    "Ws = (V**2)*(f*l)/(2*g*Di)\n",
    "print(\"Ws \", float(Ws))"
   ],
   "outputs": [
    {
     "name": "stdout",
     "output_type": "stream",
     "text": [
      "Ws  1182.8075038241286\n"
     ]
    }
   ],
   "execution_count": 869
  },
  {
   "cell_type": "code",
   "id": "70b7cea91a0b0f0b",
   "metadata": {
    "ExecuteTime": {
     "end_time": "2024-09-23T21:33:08.940600Z",
     "start_time": "2024-09-23T21:33:08.926209Z"
    }
   },
   "source": [
    "power_to_fluid = 55.5*Ws*Q_T*(1/737.562)\n",
    "print(\"Power to fluid [kW] =\", float(power_to_fluid))\n",
    "\n",
    "power_required = power_to_fluid*8760\n",
    "print(\"Power to fluid yearly [kwH] =\", float(power_required))\n",
    "\n",
    "power_after_eff = power_required/0.39\n",
    "cost_annually_single_pipe = power_after_eff*0.075\n",
    "print(\"The annual cost to pump in single 14in pipe [$]\", cost_annually_single_pipe)"
   ],
   "outputs": [
    {
     "name": "stdout",
     "output_type": "stream",
     "text": [
      "Power to fluid [kW] = 1656.4595032801844\n",
      "Power to fluid yearly [kwH] = 14510585.248734416\n",
      "The annual cost to pump in single 14in pipe [$] 27541103.0833253/pi**2\n"
     ]
    }
   ],
   "execution_count": 870
  },
  {
   "cell_type": "markdown",
   "id": "f5832f3a0c8824a9",
   "metadata": {},
   "source": [
    "### Part B \n",
    "\n",
    "Since the system is parallel, the pressure drop must be the same across the nodes, therefore, Ws must be the same."
   ]
  },
  {
   "metadata": {},
   "cell_type": "markdown",
   "source": [
    "![MOODY CHART](img/4b1.png)\n",
    "![MOODY CHART](img/4b2.png)\n",
    "![MOODY CHART](img/4b3.png)"
   ],
   "id": "88cd7fe55d836ec0"
  },
  {
   "cell_type": "markdown",
   "id": "2fd4be383ca7b6fb",
   "metadata": {},
   "source": [
    "## Problem 5"
   ]
  },
  {
   "cell_type": "code",
   "id": "7eb76425de5ef2d3",
   "metadata": {
    "ExecuteTime": {
     "end_time": "2024-09-23T21:33:09.111183Z",
     "start_time": "2024-09-23T21:33:09.101112Z"
    }
   },
   "source": [
    "# easier to read these as sympy symbols\n",
    "gamma = sp.symbols(r'\\gamma')\n",
    "\n",
    "Ws = sp.symbols('W_s')\n",
    "\n",
    "hf = sp.symbols('h_f')\n",
    "\n",
    "g = sp.symbols('g')\n",
    "\n",
    "P_in = sp.symbols('P_{in}')\n",
    "P_out = sp.symbols('P_{out}')\n",
    "\n",
    "V_in = sp.symbols('V_{in}')\n",
    "V_out = sp.symbols('V_{out}')\n",
    "\n",
    "z_in = sp.symbols('z_{in}')\n",
    "z_out = sp.symbols('z_{out}')\n",
    "\n",
    "\n",
    "# defining my values\n",
    "L_num = 7000\n",
    "D_num = 60 \n",
    "ep_num = 0.01\n",
    "h = 1250\n",
    "rho_num = 1.934 #converted to slug/ft^3\n",
    "mu_num = 2.043e-5 #also divided by 32.2 for conversion\n",
    "\n",
    "n_turbine = 0.92\n",
    "n_pump = 0.82\n",
    "\n",
    "z_in = h\n"
   ],
   "outputs": [],
   "execution_count": 871
  },
  {
   "cell_type": "markdown",
   "id": "55fa7cb974987b9a",
   "metadata": {},
   "source": [
    "Since the pressures are at atmospheric conditions, P_in, P_out = 0 \n",
    "The resevoirs are big, so we can say the velocity Vin, Vout = 0\n",
    "Zout = datum = 0 \n",
    "\n"
   ]
  },
  {
   "cell_type": "code",
   "id": "83f5ca25e2b47266",
   "metadata": {
    "ExecuteTime": {
     "end_time": "2024-09-23T21:33:09.326919Z",
     "start_time": "2024-09-23T21:33:09.312431Z"
    }
   },
   "source": [
    "headeq_1 = sp.Eq(Ws, g*z_in - hf)\n",
    "headeq_1"
   ],
   "outputs": [
    {
     "data": {
      "text/plain": [
       "Eq(W_s, 1250*g - h_f)"
      ],
      "text/latex": "$\\displaystyle W_{s} = 1250 g - h_{f}$"
     },
     "execution_count": 872,
     "metadata": {},
     "output_type": "execute_result"
    }
   ],
   "execution_count": 872
  },
  {
   "cell_type": "markdown",
   "id": "5f693037319c720",
   "metadata": {},
   "source": [
    "Now, hf = (K_major + K_ minor)*(V^2/2) "
   ]
  },
  {
   "cell_type": "code",
   "id": "28b240c432377bd6",
   "metadata": {
    "ExecuteTime": {
     "end_time": "2024-09-23T21:33:09.578828Z",
     "start_time": "2024-09-23T21:33:09.563763Z"
    }
   },
   "source": [
    "\n",
    "f_laminar_sym = sp.symbols('f_{laminar}')\n",
    "K_minor = sp.symbols('K_{minor}')\n",
    "Q_sym = sp.symbols('Q_{sym}')\n",
    "\n",
    "# I calculated ft on my calculator using epsilon = 0.01 and D = 60, it is faster just to input into python manually\n",
    "Ft = 0.013259\n",
    "K_minor_1 = 1.5 + 498*Ft\n",
    "\n",
    "headeq_2 = headeq_1.subs(hf, 8*(Q_sym**2)*(f_laminar_sym*(L_num/D_num) + K_minor_1)/(sp.pi**2*D_num**4) )\n",
    "headeq_2"
   ],
   "outputs": [
    {
     "data": {
      "text/plain": [
       "Eq(W_s, -Q_{sym}**2*(116.666666666667*f_{laminar} + 8.102982)/(1620000*pi**2) + 1250*g)"
      ],
      "text/latex": "$\\displaystyle W_{s} = - \\frac{Q_{sym}^{2} \\left(116.666666666667 f_{laminar} + 8.102982\\right)}{1620000 \\pi^{2}} + 1250 g$"
     },
     "execution_count": 873,
     "metadata": {},
     "output_type": "execute_result"
    }
   ],
   "execution_count": 873
  },
  {
   "cell_type": "markdown",
   "id": "acb78776f8374999",
   "metadata": {},
   "source": [
    "Equation looks strange, but it should be Ws = .... \n",
    "K_minor = 0.5 + 1 + 6(8)Ft + 14(30)Ft + 10(3)Ft\n",
    "\n",
    "and Ft is now known, so we know K_minor simplifies to:\n"
   ]
  },
  {
   "cell_type": "code",
   "id": "c354a63fa8918350",
   "metadata": {
    "ExecuteTime": {
     "end_time": "2024-09-23T21:33:09.796291Z",
     "start_time": "2024-09-23T21:33:09.781064Z"
    }
   },
   "source": [
    "# define these symbols\n",
    "Re_num = sp.symbols('Re_{num}')\n",
    "\n",
    "\n",
    "#Reynolds was a function of one unknown, Q_sym\n",
    "\n",
    "Re_num = 4*rho_num*Q_sym/(sp.pi*D_num*mu_num)\n",
    "\n",
    "\n",
    "# I put the reynolds eq as a function of Q into it so now my whole head function is just dependent on Q\n",
    "\n",
    "f_laminar_eq =  (0.3086)*sp.log(10)**2/(sp.log(6.9/Re_num + (ep_num/(D_num*3.7))**1.11))**2\n",
    "\n",
    "# sympy doesnt have log 10 so i had to use log rules\n",
    "\n",
    "\n",
    "\n",
    "# now we can substitute this f_laminar into my head equation and make it all a function of Q\n",
    "# everything subbed into the equation now:\n"
   ],
   "outputs": [],
   "execution_count": 874
  },
  {
   "cell_type": "code",
   "id": "c2b5844f21a9491e",
   "metadata": {
    "ExecuteTime": {
     "end_time": "2024-09-23T21:33:09.975733Z",
     "start_time": "2024-09-23T21:33:09.968185Z"
    }
   },
   "source": [
    "\n",
    "headeq_3 = headeq_2.subs(f_laminar_sym, f_laminar_eq)\n",
    "\n",
    "# headeq_4 = headeq_2.subs(K_minor, K_minor_1)\n",
    "# headeq_4\n",
    "# \n",
    "# headeq_5 = headeq_4.subs(K_major, K_major_1)\n",
    "# headeq_5\n",
    "\n"
   ],
   "outputs": [],
   "execution_count": 875
  },
  {
   "cell_type": "code",
   "id": "fbd6f1929fbc181e",
   "metadata": {
    "ExecuteTime": {
     "end_time": "2024-09-23T21:33:10.419956Z",
     "start_time": "2024-09-23T21:33:10.141696Z"
    }
   },
   "source": [
    "from sympy import solve\n",
    "head_4 = headeq_3.subs(Q_sym, 50000)\n",
    "head_4\n",
    "\n",
    "solution = solve(head_4)\n",
    "print(solution)"
   ],
   "outputs": [
    {
     "name": "stdout",
     "output_type": "stream",
     "text": [
      "[{W_s: 1250.0*g - 1509.0448389156}]\n"
     ]
    }
   ],
   "execution_count": 876
  },
  {
   "cell_type": "code",
   "id": "eaaa5e44c274f4c2",
   "metadata": {
    "ExecuteTime": {
     "end_time": "2024-09-23T21:33:11.043509Z",
     "start_time": "2024-09-23T21:33:10.753844Z"
    }
   },
   "source": [
    "head_4 = headeq_3.subs(Q_sym, 150000)\n",
    "head_4\n",
    "\n",
    "solution = solve(head_4)\n",
    "print(solution)"
   ],
   "outputs": [
    {
     "name": "stdout",
     "output_type": "stream",
     "text": [
      "[{W_s: 1250.0*g - 13580.208169733}]\n"
     ]
    }
   ],
   "execution_count": 877
  },
  {
   "cell_type": "code",
   "id": "787857c8d63638c8",
   "metadata": {
    "ExecuteTime": {
     "end_time": "2024-09-23T21:33:11.392320Z",
     "start_time": "2024-09-23T21:33:11.096864Z"
    }
   },
   "source": [
    "head_4 = headeq_3.subs(Q_sym, 175000)\n",
    "head_4\n",
    "\n",
    "solution = solve(head_4)\n",
    "print(solution)"
   ],
   "outputs": [
    {
     "name": "stdout",
     "output_type": "stream",
     "text": [
      "[{W_s: 1250.0*g - 18484.0558748449}]\n"
     ]
    }
   ],
   "execution_count": 878
  },
  {
   "cell_type": "code",
   "id": "2f0563a945658631",
   "metadata": {
    "ExecuteTime": {
     "end_time": "2024-09-23T21:33:11.969323Z",
     "start_time": "2024-09-23T21:33:11.573727Z"
    }
   },
   "source": [
    "head_4 = headeq_3.subs(Q_sym, 250000)\n",
    "head_4\n",
    "\n",
    "solution = solve(head_4)\n",
    "print(solution)"
   ],
   "outputs": [
    {
     "name": "stdout",
     "output_type": "stream",
     "text": [
      "[{W_s: 1250.0*g - 37722.1354837542}]\n"
     ]
    }
   ],
   "execution_count": 879
  },
  {
   "cell_type": "markdown",
   "id": "8711ff6592d5e1cc",
   "metadata": {},
   "source": [
    "Couldn't figure out how to get it to plot, so I did a few values manually:\n",
    "\n",
    "1. 50,000 cfs  => 38,741\n",
    "2. 150,000 cfs => 26,670\n",
    "3. 175,000 cfs => \n",
    "4. 250,000 cfs\n",
    "\n",
    "At 150,000 cfs, I finished the rest of the calculations by hand to find the power of the fluid then multiplied that by the turbine efficiency. Essentially, I was able to make the head loss a function of Q, and iterate different values from 50,000 cfs to 250,000 cfs. Power can then be calculated using power = rho*Q*(Ws(Q)). I plotted this against flowrates.\n",
    "\n",
    "- ws(150,000) is Ws as a function of 150,000\n",
    "\n",
    "    Ws(150,000) * rho * 150,000 / 550 = 14,067,212\n",
    "\n",
    "    Then 14,067,212 * 0.89 = my maximum power\n",
    "\n",
    "    MAX Power in [hp] = 12,941,835\n",
    "\n",
    "## Part B\n",
    "\n",
    "The max power occurs at approximately 150,000 cfs\n",
    "\n"
   ]
  },
  {
   "cell_type": "code",
   "id": "cc6862d63ecea948",
   "metadata": {
    "ExecuteTime": {
     "end_time": "2024-09-23T21:33:12.143420Z",
     "start_time": "2024-09-23T21:33:12.137627Z"
    }
   },
   "source": [
    "# Ws_ = sp.lambdify(Q_sym, headeq_3.rhs, modules='numpy')"
   ],
   "outputs": [],
   "execution_count": 880
  },
  {
   "cell_type": "code",
   "id": "6dfcd8cf94002587",
   "metadata": {
    "ExecuteTime": {
     "end_time": "2024-09-23T21:33:12.317345Z",
     "start_time": "2024-09-23T21:33:12.310106Z"
    }
   },
   "source": [
    "# vol_flow_rates = np.linspace(50000, 250000, 100000)\n",
    "# power_of_fluid = rho*Ws_(vol_flow_rates)*vol_flow_rates/550\n",
    "# power_shaft = n_turbine*power_of_fluid\n",
    "\n",
    "# fig, ax = plt.subplots()\n",
    "# ax.plot(vol_flow_rates, power_of_fluid, label='Fluid Power', ls='--')\n",
    "# ax.plot(vol_flow_rates, power_shaft, label='Shaft Power')\n",
    "# ax.set_xlabel(r'Flow Rate, $Q$ ($\\frac{ft^3}{s}$)')\n",
    "# ax.set_ylabel(r'Power ($hp$)')\n",
    "# ax.set_title('Turbine')\n",
    "# ax.legend()\n",
    "# plt.show()"
   ],
   "outputs": [],
   "execution_count": 881
  },
  {
   "cell_type": "code",
   "id": "a246f5c40089855c",
   "metadata": {
    "ExecuteTime": {
     "end_time": "2024-09-23T21:33:12.635324Z",
     "start_time": "2024-09-23T21:33:12.627541Z"
    }
   },
   "source": [
    "# max_power_gen = np.max(power_of_fluid)\n",
    "# print(f'The maximum power is {max_power_gen} horse power.')"
   ],
   "outputs": [],
   "execution_count": 882
  },
  {
   "cell_type": "code",
   "id": "279d2f474eda7739",
   "metadata": {
    "ExecuteTime": {
     "end_time": "2024-09-23T21:33:12.652382Z",
     "start_time": "2024-09-23T21:33:12.647053Z"
    }
   },
   "source": [
    "# jupyter nbconvert --to pdf my_notebook.ipynb\n",
    "# jupyter nbconvert --to pdf '.\\ESD - Assignment 1 - Alt658.ipynb'\n"
   ],
   "outputs": [],
   "execution_count": 883
  }
 ],
 "metadata": {
  "kernelspec": {
   "display_name": "Python 3 (ipykernel)",
   "language": "python",
   "name": "python3"
  },
  "language_info": {
   "codemirror_mode": {
    "name": "ipython",
    "version": 3
   },
   "file_extension": ".py",
   "mimetype": "text/x-python",
   "name": "python",
   "nbconvert_exporter": "python",
   "pygments_lexer": "ipython3",
   "version": "3.12.5"
  }
 },
 "nbformat": 4,
 "nbformat_minor": 5
}

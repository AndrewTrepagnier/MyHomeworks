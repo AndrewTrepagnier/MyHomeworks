{
 "cells": [
  {
   "cell_type": "markdown",
   "id": "9d58867f3a838655",
   "metadata": {
    "collapsed": false
   },
   "source": [
    "# ME 3613 & Homework 3\n",
    "\n",
    "- Name: Andrew Trepagnier\n",
    "- Netid: alt658"
   ]
  },
  {
   "cell_type": "code",
   "id": "initial_id",
   "metadata": {
    "collapsed": true,
    "jupyter": {
     "outputs_hidden": true
    },
    "ExecuteTime": {
     "end_time": "2024-11-05T01:50:29.779723Z",
     "start_time": "2024-11-05T01:50:29.776301Z"
    }
   },
   "source": [
    "import control as ct\n",
    "import matplotlib.pyplot as plt\n",
    "import numpy as np\n",
    "import sympy as sp\n",
    "\n",
    "# Path to the maroon_ipynb file most likely follows one the two shown here\n",
    "\n",
    "# plt.style.use('maroon_ipynb.mplstyle')"
   ],
   "outputs": [],
   "execution_count": 6
  },
  {
   "cell_type": "markdown",
   "id": "4d2aec46db999688",
   "metadata": {
    "collapsed": false
   },
   "source": [
    "# Problem 1\n",
    "## Given\n",
    "\n",
    "![jupyter](./f1.PNG)\n",
    "\n",
    "$$m=10\\ kg$$\n",
    "\n",
    "$$k_1=85\\ N/m,\\ k_2=30\\ N/m$$\n",
    "\n",
    "$$c_1=4\\ N\\cdot s/m,\\ c_2=3\\ N\\cdot s/m$$\n",
    "\n",
    "The input force $f(t) = e^{-5t}$.\n",
    "\n",
    "## Find\n",
    "Using the control package `tf()` function to get the forced response, find the following:\n",
    "\n",
    "a. The equation of motion for the system.\n",
    "b. The transfer function $X(s)/F(s)$.\n",
    "c. The forced response for the input force $f(t)$. Plot the response.\n",
    "\n",
    "## Solution\n",
    "### Part A"
   ]
  },
  {
   "metadata": {
    "ExecuteTime": {
     "end_time": "2024-11-05T01:50:29.810056Z",
     "start_time": "2024-11-05T01:50:29.807234Z"
    }
   },
   "cell_type": "code",
   "source": "",
   "id": "ed4ebce99a4a84fb",
   "outputs": [],
   "execution_count": null
  },
  {
   "cell_type": "code",
   "id": "b720844c722592e7",
   "metadata": {
    "collapsed": false,
    "ExecuteTime": {
     "end_time": "2024-11-05T02:01:39.511926Z",
     "start_time": "2024-11-05T02:01:39.501539Z"
    }
   },
   "source": [
    "# Define symbols using sympy\n",
    "t = sp.Symbol('t')\n",
    "m = sp.Symbol('m')\n",
    "k_1 = sp.Symbol('k_1')\n",
    "k_2 = sp.Symbol('k_2')\n",
    "c_1 = sp.Symbol('c_1')\n",
    "c_2 = sp.Symbol('c_2')\n",
    "x = sp.Function('x')\n",
    "f = sp.Function('f')\n",
    "\n",
    "#m , k_1 , k_2, c_1, c_2 = 10, 85, 30, 4, 3\n",
    "\n",
    "# Set force equations for the mass-spring system using sp.diff functions\n",
    "# Dampeners and springs always resist the direction of motion so they are negative in this instance \n",
    "\n",
    "eq = sp.Eq(m*x(t).diff(t,2)+(c_1+c_2)*x(t).diff()+(k_1+k_2)*x(t), f(t))\n",
    "eq\n"
   ],
   "outputs": [
    {
     "data": {
      "text/plain": [
       "Eq(m*Derivative(x(t), (t, 2)) + (c_1 + c_2)*Derivative(x(t), t) + (k_1 + k_2)*x(t), f(t))"
      ],
      "text/latex": "$\\displaystyle m \\frac{d^{2}}{d t^{2}} x{\\left(t \\right)} + \\left(c_{1} + c_{2}\\right) \\frac{d}{d t} x{\\left(t \\right)} + \\left(k_{1} + k_{2}\\right) x{\\left(t \\right)} = f{\\left(t \\right)}$"
     },
     "execution_count": 10,
     "metadata": {},
     "output_type": "execute_result"
    }
   ],
   "execution_count": 10
  },
  {
   "metadata": {
    "ExecuteTime": {
     "end_time": "2024-11-05T01:50:30.164929900Z",
     "start_time": "2024-11-05T01:37:54.795842Z"
    }
   },
   "cell_type": "code",
   "source": [
    "# substitute values into equation\n",
    "\n",
    "\n",
    "eq_1 = sp.Eq(10*x(t).diff(t,2)+(4+3)*x(t).diff()+(85+30)*x(t), f(t))\n",
    "eq_1\n"
   ],
   "id": "ec859c218cd04510",
   "outputs": [
    {
     "data": {
      "text/plain": [
       "Eq(115*x(t) + 7*Derivative(x(t), t) + 10*Derivative(x(t), (t, 2)), f(t))"
      ],
      "text/latex": "$\\displaystyle 115 x{\\left(t \\right)} + 7 \\frac{d}{d t} x{\\left(t \\right)} + 10 \\frac{d^{2}}{d t^{2}} x{\\left(t \\right)} = f{\\left(t \\right)}$"
     },
     "execution_count": 3,
     "metadata": {},
     "output_type": "execute_result"
    }
   ],
   "execution_count": 3
  },
  {
   "metadata": {},
   "cell_type": "markdown",
   "source": "",
   "id": "ef184972530670e5"
  },
  {
   "metadata": {},
   "cell_type": "markdown",
   "source": [
    "### This Equation is equivalent to the following equation\n",
    "\n",
    "$$10\\ddot{x}+(7)\\dot{x}+(115)x = f$$\n",
    "\n",
    "Apply the Transfer function to find force response of the system. The transfer function is defined as the ratio of the forced response $X(s)$ to the input $F(s)$ in the s-domain, which is \n",
    "For any transfer function for 2nd-order ODEs\n",
    "$$T(s)=\\frac{X(s)}{F(s)}=\\frac{as^2+bs+c}{ds^2+es+f}$$\n",
    "it can be represented as `tf([a, b, c],[d, e, f])`."
   ],
   "id": "71e1d480a8415078"
  },
  {
   "cell_type": "markdown",
   "id": "66be59d321394cd2",
   "metadata": {
    "collapsed": false
   },
   "source": [
    "### Part B"
   ]
  },
  {
   "cell_type": "code",
   "id": "c6774d57a423b2b1",
   "metadata": {
    "collapsed": false,
    "ExecuteTime": {
     "end_time": "2024-11-05T01:50:30.165914400Z",
     "start_time": "2024-11-05T01:37:54.811735Z"
    }
   },
   "source": [
    "t, s = sp.symbols('t, s')\n",
    "\n",
    "\n",
    "eq1_s = sp.Eq(\n",
    "    sp.laplace_transform(eq_1.lhs, t, s, noconds=True),  # Laplace transfer for the left hand side of the above equation\n",
    "    sp.laplace_transform(eq_1.rhs, t, s, noconds=True)   # Laplace transfer for the right hand side of the above equation\n",
    ")\n",
    "eq1_s"
   ],
   "outputs": [
    {
     "data": {
      "text/plain": [
       "Eq(10*s**2*LaplaceTransform(x(t), t, s) + 7*s*LaplaceTransform(x(t), t, s) - 10*s*x(0) + 115*LaplaceTransform(x(t), t, s) - 7*x(0) - 10*Subs(Derivative(x(t), t), t, 0), LaplaceTransform(f(t), t, s))"
      ],
      "text/latex": "$\\displaystyle 10 s^{2} \\mathcal{L}_{t}\\left[x{\\left(t \\right)}\\right]\\left(s\\right) + 7 s \\mathcal{L}_{t}\\left[x{\\left(t \\right)}\\right]\\left(s\\right) - 10 s x{\\left(0 \\right)} + 115 \\mathcal{L}_{t}\\left[x{\\left(t \\right)}\\right]\\left(s\\right) - 7 x{\\left(0 \\right)} - 10 \\left. \\frac{d}{d t} x{\\left(t \\right)} \\right|_{\\substack{ t=0 }} = \\mathcal{L}_{t}\\left[f{\\left(t \\right)}\\right]\\left(s\\right)$"
     },
     "execution_count": 4,
     "metadata": {},
     "output_type": "execute_result"
    }
   ],
   "execution_count": 4
  },
  {
   "metadata": {
    "ExecuteTime": {
     "end_time": "2024-11-05T01:50:30.165914400Z",
     "start_time": "2024-11-05T01:37:54.970151Z"
    }
   },
   "cell_type": "code",
   "source": [
    "# Substitute zeros into laplace. t = 0, make sure you define x function's independent variable either here or as sp.Function('x')(t)\n",
    "# Additional note to self, x is declared as a function with an independednt variable t, which is a numpy array. You must declare what the independent variable is either here, x(t)\n",
    "# or at the callout, x = sp.Function('x')(t) like this\n",
    "\n",
    "eq2_s = eq1_s.subs([\n",
    "    (x(t).subs(t, 0),0),\n",
    "    (x(t).diff().subs(t, 0),0)\n",
    "]\n",
    ")\n",
    "eq2_s"
   ],
   "id": "54f345c7baf7a31e",
   "outputs": [
    {
     "data": {
      "text/plain": [
       "Eq(10*s**2*LaplaceTransform(x(t), t, s) + 7*s*LaplaceTransform(x(t), t, s) + 115*LaplaceTransform(x(t), t, s), LaplaceTransform(f(t), t, s))"
      ],
      "text/latex": "$\\displaystyle 10 s^{2} \\mathcal{L}_{t}\\left[x{\\left(t \\right)}\\right]\\left(s\\right) + 7 s \\mathcal{L}_{t}\\left[x{\\left(t \\right)}\\right]\\left(s\\right) + 115 \\mathcal{L}_{t}\\left[x{\\left(t \\right)}\\right]\\left(s\\right) = \\mathcal{L}_{t}\\left[f{\\left(t \\right)}\\right]\\left(s\\right)$"
     },
     "execution_count": 5,
     "metadata": {},
     "output_type": "execute_result"
    }
   ],
   "execution_count": 5
  },
  {
   "metadata": {
    "ExecuteTime": {
     "end_time": "2024-11-05T01:57:50.718797Z",
     "start_time": "2024-11-05T01:57:50.556529Z"
    }
   },
   "cell_type": "code",
   "source": [
    "# Solve and find solution in the s domain\n",
    "x1_s = sp.solve(eq1_s, sp.laplace_transform(x, t, s, noconds=True))\n",
    "x1_s"
   ],
   "id": "7f0ee4057b740671",
   "outputs": [
    {
     "data": {
      "text/plain": [
       "[(10*s*x(0) + LaplaceTransform(f(t), t, s) + 7*x(0) + 10*Subs(Derivative(x(t), t), t, 0))/(10*s**2 + 7*s + 115)]"
      ]
     },
     "execution_count": 8,
     "metadata": {},
     "output_type": "execute_result"
    }
   ],
   "execution_count": 8
  },
  {
   "metadata": {},
   "cell_type": "markdown",
   "source": "### Solution to part B: Transfer funciton",
   "id": "ddb44e7ce3162b39"
  },
  {
   "metadata": {
    "ExecuteTime": {
     "end_time": "2024-11-05T01:59:29.986395Z",
     "start_time": "2024-11-05T01:59:29.981497Z"
    }
   },
   "cell_type": "code",
   "source": [
    "T1 = ct.tf(1, [10, 7, 115])\n",
    "T1\n"
   ],
   "id": "f985e94447653762",
   "outputs": [
    {
     "data": {
      "text/plain": [
       "TransferFunction(array([1]), array([ 10,   7, 115]))"
      ],
      "text/latex": "$$\\frac{1}{10 s^2 + 7 s + 115}$$"
     },
     "execution_count": 9,
     "metadata": {},
     "output_type": "execute_result"
    }
   ],
   "execution_count": 9
  },
  {
   "cell_type": "markdown",
   "id": "9693dfb091d4b1be",
   "metadata": {
    "collapsed": false
   },
   "source": [
    "### Part C"
   ]
  },
  {
   "metadata": {
    "ExecuteTime": {
     "end_time": "2024-11-05T02:05:22.369162Z",
     "start_time": "2024-11-05T02:05:22.366023Z"
    }
   },
   "cell_type": "code",
   "source": [
    "# define time range\n",
    "time_array = np.linspace(0,40,1000)"
   ],
   "id": "2db3b3dbe39b32a0",
   "outputs": [],
   "execution_count": 11
  },
  {
   "metadata": {
    "ExecuteTime": {
     "end_time": "2024-11-05T02:24:26.525547Z",
     "start_time": "2024-11-05T02:24:26.509068Z"
    }
   },
   "cell_type": "code",
   "source": [
    "# implement control package to see response, e^-5t, where t is the input of values and we watch the transfer funcitons response\n",
    "\n",
    "time_array, x1 = ct.forced_response(T1, T = time_array, U = np.exp(-5*time_array) )"
   ],
   "id": "e98c3724601d776f",
   "outputs": [],
   "execution_count": 12
  },
  {
   "cell_type": "code",
   "id": "c0508279-8716-426b-bf00-4864feafddb4",
   "metadata": {
    "ExecuteTime": {
     "end_time": "2024-11-05T02:42:46.210511Z",
     "start_time": "2024-11-05T02:42:46.153891Z"
    }
   },
   "source": [
    "# plot it\n",
    "fig, ax = plt.subplots()\n",
    "\n",
    "\n",
    "ax.plot(time_array,x1,label='force response')\n",
    "\n",
    "ax.set_xlabel('t[sec]')\n",
    "ax.set_ylabel('Force Response[N] ')\n",
    "ax.legend(loc='upper right')\n",
    "plt.show()"
   ],
   "outputs": [
    {
     "data": {
      "text/plain": [
       "<Figure size 640x480 with 1 Axes>"
      ],
      "image/png": "[encoded data removed]"
     },
     "metadata": {},
     "output_type": "display_data"
    }
   ],
   "execution_count": 19
  },
  {
   "cell_type": "markdown",
   "id": "c3b0d0ad6aab007c",
   "metadata": {
    "collapsed": false
   },
   "source": [
    "# Problem 2\n",
    "## Given\n",
    "\n",
    "![jupyter](./f2.PNG)\n",
    "\n",
    "$$m_1=5\\ kg,\\ m_2=10\\ kg$$\n",
    "\n",
    "$$k_1=85\\ N/m,\\ k_2=30\\ N/m,\\ k_3=500\\ N/m$$\n",
    "\n",
    "$$c_1=4\\ N\\cdot s/m,\\ c_2=3\\ N\\cdot s/m$$\n",
    "\n",
    "$$f(t)=10^{-t}$$\n",
    "\n",
    "The initial conditions are $x_0(0)=0.5$, $\\dot{x_0}(0)=0$, $x_1(0)=0$, $\\dot{x_1}(0)=0$.\n",
    "\n",
    "## Find\n",
    "- a. Determine the equations of motion.\n",
    "- b. Put the system in the state-variable form. Tip: use `subs` function to make substitutions $x_1=x$ and $x_2=\\dot{x}$.\n",
    "- c. Define a state-space model using `ct.ss`.\n",
    "- d. Plot the response $x_0(t)$ and $x_1(t)$ (first 10 seconds) on the same plot using the `ct.forced_response` function and label each response. \n",
    "\n",
    "## Solution\n",
    "### Part A"
   ]
  },
  {
   "metadata": {},
   "cell_type": "code",
   "outputs": [],
   "execution_count": null,
   "source": [
    "# Deformations based on FBDs\n",
    "\n",
    "# the deformation in spring x_0 = x_0\n",
    "# the deformation in the spring x_1 = x_1-x_0\n",
    "\n",
    "m1 = sp.Symbol('m1')\n",
    "m2 = sp.Symbol('m2')\n",
    "x0 = sp.Symbol('x0')\n",
    "x1 = sp.Symbol('x1')\n",
    "k1 = sp.Symbol('k1')\n",
    "k2 = sp.Symbol('k2')\n",
    "k3 = sp.Symbol('k3')\n",
    "c1 = sp.Symbol('c1')\n",
    "c2 = sp.Symbol('c2')\n",
    "\n"
   ],
   "id": "ad3e3dc9d41814fa"
  },
  {
   "metadata": {},
   "cell_type": "markdown",
   "source": [
    "### Mass 1 FBD\n",
    "\n",
    "\n",
    "$$\\sum F = m_{1}\\ddot{x_{0}} = -k_{1}x_{0}-c_{1}\\dot{x_{0}}-k_{3}(x_{1}-x_{0})$$\n",
    "\n",
    "\n",
    "### Mass 2 FBD"
   ],
   "id": "fe94190c200e40f4"
  },
  {
   "metadata": {},
   "cell_type": "markdown",
   "source": "$$\\sum F = m_{2}\\ddot{x_{1}} = -k_{3}(x_{1}-x_{0})-c_{2}\\dot{x_{1}}-k_{2}(x_{1}) + f$$",
   "id": "e90a885f05b4c968"
  },
  {
   "metadata": {},
   "cell_type": "markdown",
   "source": "",
   "id": "c5b9a29056f2a474"
  },
  {
   "cell_type": "markdown",
   "id": "a038e7bc27607af3",
   "metadata": {
    "collapsed": false
   },
   "source": [
    "### Part B"
   ]
  },
  {
   "cell_type": "code",
   "id": "d82e74d1786758b3",
   "metadata": {
    "collapsed": false,
    "ExecuteTime": {
     "end_time": "2024-11-05T01:50:30.166920800Z",
     "start_time": "2024-11-05T01:37:55.040811Z"
    }
   },
   "source": [],
   "outputs": [],
   "execution_count": null
  },
  {
   "cell_type": "markdown",
   "id": "e19aa7034ced9521",
   "metadata": {
    "collapsed": false
   },
   "source": [
    "### Part C"
   ]
  },
  {
   "cell_type": "code",
   "id": "c924bbfceaf1c15d",
   "metadata": {
    "collapsed": false,
    "ExecuteTime": {
     "end_time": "2024-11-05T01:50:30.167914700Z",
     "start_time": "2024-11-05T01:37:55.054177Z"
    }
   },
   "source": [],
   "outputs": [],
   "execution_count": null
  },
  {
   "cell_type": "markdown",
   "id": "7d8db5a8b34600ce",
   "metadata": {
    "collapsed": false
   },
   "source": [
    "### Part D"
   ]
  },
  {
   "cell_type": "code",
   "id": "2267e55995f97b78",
   "metadata": {
    "collapsed": false,
    "ExecuteTime": {
     "end_time": "2024-11-05T01:50:30.167914700Z",
     "start_time": "2024-11-05T01:37:55.074485Z"
    }
   },
   "source": [],
   "outputs": [],
   "execution_count": null
  }
 ],
 "metadata": {
  "kernelspec": {
   "display_name": "Python 3 (ipykernel)",
   "language": "python",
   "name": "python3"
  },
  "language_info": {
   "codemirror_mode": {
    "name": "ipython",
    "version": 3
   },
   "file_extension": ".py",
   "mimetype": "text/x-python",
   "name": "python",
   "nbconvert_exporter": "python",
   "pygments_lexer": "ipython3",
   "version": "3.11.4"
  }
 },
 "nbformat": 4,
 "nbformat_minor": 5
}
